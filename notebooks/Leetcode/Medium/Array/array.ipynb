{
 "cells": [
  {
   "cell_type": "markdown",
   "metadata": {},
   "source": [
    "### 560. Subarray Sum Equals K"
   ]
  },
  {
   "cell_type": "markdown",
   "metadata": {},
   "source": [
    "Given an array of integers and an integer k, you need to find the total number of continuous subarrays whose sum equals to k."
   ]
  },
  {
   "cell_type": "markdown",
   "metadata": {},
   "source": [
    "Example 1:  \n",
    "Input:nums = [1,1,1], k = 2  \n",
    "Output: 2  "
   ]
  },
  {
   "cell_type": "markdown",
   "metadata": {},
   "source": [
    "Note:  \n",
    "The length of the array is in range [1, 20,000].  \n",
    "The range of numbers in the array is [-1000, 1000] and the range of the integer k is [-1e7, 1e7].  "
   ]
  },
  {
   "cell_type": "markdown",
   "metadata": {},
   "source": [
    "求一个数组的子数组："
   ]
  },
  {
   "cell_type": "markdown",
   "metadata": {},
   "source": [
    "$$n(1+n)/2$$"
   ]
  },
  {
   "cell_type": "markdown",
   "metadata": {},
   "source": [
    "$$Time Limit Exceeded$$"
   ]
  },
  {
   "cell_type": "raw",
   "metadata": {},
   "source": [
    "var subarraySum = function(nums, k) {\n",
    "  let count = 0;  \n",
    "  for(var i = nums.length; i > 0; i--){\n",
    "      for(var j =0;j+i<=nums.length;j++){\n",
    "        if(nums.slice(j,j+i).reduce((a,b)=>a+b,0)===k){count++;}\n",
    "      }\n",
    "    }\n",
    "  return count;\n",
    "};"
   ]
  },
  {
   "cell_type": "code",
   "execution_count": 11,
   "metadata": {},
   "outputs": [
    {
     "data": {
      "text/plain": [
       "2"
      ]
     },
     "execution_count": 11,
     "metadata": {},
     "output_type": "execute_result"
    }
   ],
   "source": [
    "subarraySum([1,1,1],2)"
   ]
  },
  {
   "cell_type": "code",
   "execution_count": 20,
   "metadata": {},
   "outputs": [],
   "source": [
    "var subarraySum = function(arr, target) {\n",
    "  let set = new Set();\n",
    "  let sum = 0;\n",
    "  for (var i = 0; i < arr.length; i++) {\n",
    "   if (set.has(sum - target)) {\n",
    "      return true;\n",
    "    }\n",
    "    set.add(sum);\n",
    "  }\n",
    "  return false;\n",
    "}"
   ]
  },
  {
   "cell_type": "code",
   "execution_count": 21,
   "metadata": {},
   "outputs": [
    {
     "data": {
      "text/plain": [
       "false"
      ]
     },
     "execution_count": 21,
     "metadata": {},
     "output_type": "execute_result"
    }
   ],
   "source": [
    "\n",
    "\n",
    "\n",
    "\n",
    "([1,1,3],2)"
   ]
  },
  {
   "cell_type": "code",
   "execution_count": 2,
   "metadata": {},
   "outputs": [
    {
     "data": {
      "text/plain": [
       "'[object Undefined]'"
      ]
     },
     "execution_count": 2,
     "metadata": {},
     "output_type": "execute_result"
    }
   ],
   "source": [
    "toString(100)"
   ]
  },
  {
   "cell_type": "code",
   "execution_count": 3,
   "metadata": {},
   "outputs": [
    {
     "data": {
      "text/plain": [
       "1"
      ]
     },
     "execution_count": 3,
     "metadata": {},
     "output_type": "execute_result"
    }
   ],
   "source": [
    "Number('1')"
   ]
  },
  {
   "cell_type": "code",
   "execution_count": 4,
   "metadata": {},
   "outputs": [
    {
     "data": {
      "text/plain": [
       "'[object Undefined]'"
      ]
     },
     "execution_count": 4,
     "metadata": {},
     "output_type": "execute_result"
    }
   ],
   "source": [
    "toString(123)"
   ]
  },
  {
   "cell_type": "code",
   "execution_count": null,
   "metadata": {},
   "outputs": [],
   "source": []
  }
 ],
 "metadata": {
  "kernelspec": {
   "display_name": "Javascript (Node.js)",
   "language": "javascript",
   "name": "javascript"
  },
  "language_info": {
   "file_extension": ".js",
   "mimetype": "application/javascript",
   "name": "javascript",
   "version": "10.9.0"
  }
 },
 "nbformat": 4,
 "nbformat_minor": 2
}
