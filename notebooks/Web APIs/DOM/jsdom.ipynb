{
 "cells": [
  {
   "cell_type": "code",
   "execution_count": null,
   "metadata": {},
   "outputs": [],
   "source": [
    "const jsdom = require(\"jsdom\");\n",
    "const { JSDOM } = jsdom;\n",
    "const dom = new JSDOM(`<!DOCTYPE html><p>Hello world</p>`);\n",
    "console.log(dom.window.document.querySelector(\"p\").textContent); // \"Hello world\""
   ]
  },
  {
   "cell_type": "markdown",
   "metadata": {},
   "source": [
    "<h2>Quote</h2><blockquote cite=\"https://www.quora.com/Albert-Einstein-reportedly-said-The-true-sign-of-intelligence-is-not-knowledge-but-imagination-What-did-he-mean\">\"Imagination is more important than knowledge\"\\nAlbert Einstein</blockquote>"
   ]
  },
  {
   "cell_type": "markdown",
   "metadata": {},
   "source": [
    "                                    <div>\n",
    "                                        Select <span className=\"u-textBold\">Yes</span>{\" \"}\n",
    "                                        to apply past due.\n",
    "                                </div>"
   ]
  },
  {
   "cell_type": "code",
   "execution_count": null,
   "metadata": {},
   "outputs": [],
   "source": []
  }
 ],
 "metadata": {
  "kernelspec": {
   "display_name": "Javascript (Node.js)",
   "language": "javascript",
   "name": "javascript"
  },
  "language_info": {
   "file_extension": ".js",
   "mimetype": "application/javascript",
   "name": "javascript",
   "version": "10.9.0"
  }
 },
 "nbformat": 4,
 "nbformat_minor": 2
}
