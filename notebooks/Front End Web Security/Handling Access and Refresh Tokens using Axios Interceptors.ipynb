{
 "cells": [
  {
   "cell_type": "markdown",
   "metadata": {},
   "source": [
    "Axios is a promise-based HTTP client which is written in JavaScript to perform HTTP communications. It has one powerful feature called Interceptors. Axios interceptors allow you to run your code or modify the request and/or response before the request and/or response reaches their destination."
   ]
  },
  {
   "cell_type": "markdown",
   "metadata": {},
   "source": [
    "## Axios Interceptors"
   ]
  },
  {
   "cell_type": "markdown",
   "metadata": {},
   "source": [
    "Axios interceptors allow you to run your code or modify the request and/or response before the request and/or response is started."
   ]
  },
  {
   "cell_type": "markdown",
   "metadata": {},
   "source": [
    "In simple words,\n",
    "- It allows you to write or execute a piece of your code before the request gets sent.\n",
    "- It allows you to write or execute a piece of your code before response reaches the calling end."
   ]
  },
  {
   "cell_type": "markdown",
   "metadata": {},
   "source": [
    "Before we implement interceptors, I have created one LocalStorageService.js. It is one service which allows us to store our data to LocalStorage. Whenever we need LocalStorageService, we just simple Inject it and use it."
   ]
  },
  {
   "cell_type": "code",
   "execution_count": 1,
   "metadata": {},
   "outputs": [],
   "source": [
    "// LocalStorageService.js\n",
    "const LocalStorageService = (function(){\n",
    " var _service;\n",
    " function _getService() {\n",
    "     if(!_service) {\n",
    "       _service = this;\n",
    "       return _service\n",
    "   }\n",
    "   return _service\n",
    " }\n",
    " function _setToken(tokenObj) {\n",
    "   localStorage.setItem('access_token', tokenObj.access_token);\n",
    "   localStorage.setItem('refresh_token', tokenObj.refresh_token);\n",
    " }\n",
    " function _getAccessToken() {\n",
    "   return localStorage.getItem('access_token');\n",
    " }\n",
    " function _getRefreshToken() {\n",
    "   return localStorage.getItem('refresh_token');\n",
    " }\n",
    " function _clearToken() {\n",
    "   localStorage.removeItem('access_token');\n",
    "   localStorage.removeItem('refresh_token');\n",
    " }\n",
    "return {\n",
    "   getService : _getService,\n",
    "   setToken : _setToken,\n",
    "   getAccessToken : _getAccessToken,\n",
    "   getRefreshToken : _getRefreshToken,\n",
    "   clearToken : _clearToken\n",
    " }\n",
    "})();\n",
    "//export default LocalStorageService;"
   ]
  },
  {
   "cell_type": "code",
   "execution_count": 2,
   "metadata": {},
   "outputs": [],
   "source": [
    "//import axios from \"axios\";\n",
    "const axios=require('axios');\n",
    "const localStorageService = LocalStorageService.getService();"
   ]
  },
  {
   "cell_type": "markdown",
   "metadata": {},
   "source": [
    "## Add a request Interceptor"
   ]
  },
  {
   "cell_type": "markdown",
   "metadata": {},
   "source": [
    "I will try to modify each request header to set access token in the Authorization HTTP header."
   ]
  },
  {
   "cell_type": "markdown",
   "metadata": {},
   "source": [
    "So we have two callbacks in request interceptor one with parameter config object and another one with the error object."
   ]
  },
  {
   "cell_type": "markdown",
   "metadata": {},
   "source": [
    "Config is the object of AxiosRequestConfig which contains URL, base URL, headers request, body data, response type, timeout, etc."
   ]
  },
  {
   "cell_type": "markdown",
   "metadata": {},
   "source": [
    "### In short, it contains all of the information about your request."
   ]
  },
  {
   "cell_type": "markdown",
   "metadata": {},
   "source": [
    "I am getting an Access token using localStorageService and modifying the Config object’s headers. I am setting access token in the Authorization HTTP header and also setting Content-type as “application/json”. After my these modifications, I am returning the config object."
   ]
  },
  {
   "cell_type": "code",
   "execution_count": 3,
   "metadata": {},
   "outputs": [
    {
     "data": {
      "text/plain": [
       "0"
      ]
     },
     "execution_count": 3,
     "metadata": {},
     "output_type": "execute_result"
    }
   ],
   "source": [
    "// Add a request interceptor\n",
    "axios.interceptors.request.use(\n",
    "   config => {\n",
    "       const token = localStorageService.getAccessToken();\n",
    "       if (token) {\n",
    "           config.headers['Authorization'] = 'Bearer ' + token;\n",
    "       }\n",
    "       // config.headers['Content-Type'] = 'application/json';\n",
    "       return config;\n",
    "   },\n",
    "   error => {\n",
    "       Promise.reject(error)\n",
    "   });"
   ]
  },
  {
   "cell_type": "markdown",
   "metadata": {},
   "source": [
    "## Add a response Interceptor"
   ]
  },
  {
   "cell_type": "markdown",
   "metadata": {},
   "source": [
    "We also have two callbacks in response interceptors. One gets executed when we have a response from the Http call and another one gets executed when we have an error."
   ]
  },
  {
   "cell_type": "markdown",
   "metadata": {},
   "source": [
    "We will simply return our response when there is no error. We’ll handle the error if there is any."
   ]
  },
  {
   "cell_type": "markdown",
   "metadata": {},
   "source": [
    "As you can see in the following condition I am checking “Is Request has a 401 status code?” and “Is it failed again?”"
   ]
  },
  {
   "cell_type": "markdown",
   "metadata": {},
   "source": [
    "if (error.response.status === 401 && !originalRequest._retry) {...}"
   ]
  },
  {
   "cell_type": "markdown",
   "metadata": {},
   "source": [
    "If the request failed again then return Error object with Promise"
   ]
  },
  {
   "cell_type": "markdown",
   "metadata": {},
   "source": [
    "return Promise.reject(error);"
   ]
  },
  {
   "cell_type": "markdown",
   "metadata": {},
   "source": [
    "I have one endpoint(/v1/Auth/token) where If I provide a valid refresh token then It will return new Access token and Refresh token either It will fail with 401 status code."
   ]
  },
  {
   "cell_type": "markdown",
   "metadata": {},
   "source": [
    "1. I will put an Access token and Refresh token to LocalStorage using localStorageService.\n",
    "2. Change Authorization header with the new Access token in originalRequest which is failed cause of not valid access token\n",
    "3. return originalRequest object with Axios."
   ]
  },
  {
   "cell_type": "code",
   "execution_count": 4,
   "metadata": {},
   "outputs": [
    {
     "data": {
      "text/plain": [
       "0"
      ]
     },
     "execution_count": 4,
     "metadata": {},
     "output_type": "execute_result"
    }
   ],
   "source": [
    "axios.interceptors.response.use(response => {\n",
    "   return response\n",
    "}, \n",
    "function (error) {\n",
    "   const originalRequest = error.config;\n",
    "   if (error.response.status === 401 && !originalRequest._retry) {\n",
    "\n",
    "       originalRequest._retry = true;\n",
    "       return axios.post('/auth/token',\n",
    "           {\n",
    "             \"refresh_token\": localStorageService.getRefreshToken()\n",
    "           })\n",
    "           .then(res => {\n",
    "               if (res.status === 201) {\n",
    "                   // 1) put token to LocalStorage\n",
    "                   localStorageService.setToken(res.data);\n",
    "\n",
    "                   // 2) Change Authorization header\n",
    "                   axios.defaults.headers.common['Authorization'] = 'Bearer ' + localStorageService.getAccessToken();\n",
    "\n",
    "                   // 3) return originalRequest object with Axios.\n",
    "                   return axios(originalRequest);\n",
    "               }\n",
    "           })\n",
    "   }\n",
    "     // return Error object with Promise\n",
    "   return Promise.reject(error);\n",
    "}\n",
    ");"
   ]
  },
  {
   "cell_type": "markdown",
   "metadata": {},
   "source": [
    "If my refresh token is not valid then my endpoint(/v1/Auth/token) will come with 401 status code and If we do not handle it then it will go in an infinite loop."
   ]
  },
  {
   "cell_type": "markdown",
   "metadata": {},
   "source": [
    " So above is my condition to stop going in an infinite loop, If the condition is true I just simple redirect to the Login page."
   ]
  }
 ],
 "metadata": {
  "kernelspec": {
   "display_name": "Javascript (Node.js)",
   "language": "javascript",
   "name": "javascript"
  },
  "language_info": {
   "file_extension": ".js",
   "mimetype": "application/javascript",
   "name": "javascript",
   "version": "10.9.0"
  }
 },
 "nbformat": 4,
 "nbformat_minor": 2
}
