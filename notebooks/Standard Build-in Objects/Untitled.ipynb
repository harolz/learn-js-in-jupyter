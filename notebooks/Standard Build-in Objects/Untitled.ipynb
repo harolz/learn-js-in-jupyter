{
 "cells": [
  {
   "cell_type": "markdown",
   "metadata": {},
   "source": [
    "The encodeURI() function encodes a Uniform Resource Identifier (URI) by replacing each instance of certain characters by one, two, three, or four escape sequences representing the UTF-8 encoding of the character (will only be four escape sequences for characters composed of two \"surrogate\" characters)."
   ]
  },
  {
   "cell_type": "code",
   "execution_count": 1,
   "metadata": {},
   "outputs": [
    {
     "name": "stdout",
     "output_type": "stream",
     "text": [
      "https://mozilla.org/?x=%D1%88%D0%B5%D0%BB%D0%BB%D1%8B\n",
      "https://mozilla.org/?x=шеллы\n"
     ]
    }
   ],
   "source": [
    "const uri = 'https://mozilla.org/?x=шеллы';\n",
    "const encoded = encodeURI(uri);\n",
    "console.log(encoded);\n",
    "// expected output: \"https://mozilla.org/?x=%D1%88%D0%B5%D0%BB%D0%BB%D1%8B\"\n",
    "\n",
    "try {\n",
    "  console.log(decodeURI(encoded));\n",
    "  // expected output: \"https://mozilla.org/?x=шеллы\"\n",
    "} catch(e) { // catches a malformed URI\n",
    "  console.error(e);\n",
    "}"
   ]
  },
  {
   "cell_type": "markdown",
   "metadata": {},
   "source": [
    "The encodeURIComponent() function encodes a Uniform Resource Identifier (URI) component by replacing each instance of certain characters by one, two, three, or four escape sequences representing the UTF-8 encoding of the character (will only be four escape sequences for characters composed of two \"surrogate\" characters)."
   ]
  },
  {
   "cell_type": "code",
   "execution_count": 2,
   "metadata": {},
   "outputs": [
    {
     "name": "stdout",
     "output_type": "stream",
     "text": [
      "%3Fx%3D%D1%88%D0%B5%D0%BB%D0%BB%D1%8B\n",
      "%3Fx%3Dtest\n"
     ]
    }
   ],
   "source": [
    "// encodes characters such as ?,=,/,&,:\n",
    "console.log(encodeURIComponent('?x=шеллы'));\n",
    "// expected output: \"%3Fx%3D%D1%88%D0%B5%D0%BB%D0%BB%D1%8B\"\n",
    "\n",
    "console.log(encodeURIComponent('?x=test'));\n",
    "// expected output: \"%3Fx%3Dtest\""
   ]
  },
  {
   "cell_type": "code",
   "execution_count": null,
   "metadata": {},
   "outputs": [],
   "source": []
  }
 ],
 "metadata": {
  "kernelspec": {
   "display_name": "Javascript (Node.js)",
   "language": "javascript",
   "name": "javascript"
  },
  "language_info": {
   "file_extension": ".js",
   "mimetype": "application/javascript",
   "name": "javascript",
   "version": "10.9.0"
  }
 },
 "nbformat": 4,
 "nbformat_minor": 2
}
