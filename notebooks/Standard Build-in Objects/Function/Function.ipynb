{
 "cells": [
  {
   "cell_type": "markdown",
   "metadata": {},
   "source": [
    "# Function"
   ]
  },
  {
   "cell_type": "code",
   "execution_count": 32,
   "metadata": {},
   "outputs": [
    {
     "data": {
      "text/plain": [
       "'Every JavaScript function is actually a Function object. This can be seen with the code true which returns true.\\ntrue '"
      ]
     },
     "execution_count": 32,
     "metadata": {},
     "output_type": "execute_result"
    }
   ],
   "source": [
    "`Every JavaScript function is actually a Function object. This can be seen with the code ${(function(){}).constructor === Function} which returns true.\n",
    "${(()=>{}).constructor === Function} `"
   ]
  },
  {
   "cell_type": "code",
   "execution_count": 3,
   "metadata": {},
   "outputs": [
    {
     "name": "stdout",
     "output_type": "stream",
     "text": [
      "[Function]\n",
      "[Function: Object]\n",
      "[Function: Function]\n",
      "[Function: Object]\n"
     ]
    }
   ],
   "source": [
    "var an_Function = ()=>console.log('Hello World!')\n",
    "var an_Object = {};\n",
    "console.log(()=>console.log('Hello World!').constructor)//[Function]\n",
    "console.log({}.constructor)//[Function: Object]\n",
    "console.log(an_Function.constructor)//[Function: Function]\n",
    "console.log(an_Object.constructor)//[Function: Object]"
   ]
  },
  {
   "cell_type": "markdown",
   "metadata": {},
   "source": [
    "### Constructor -  Function()\n",
    "The <b>Function constructor</b> creates a new <b>Function</b> object. Calling the constructor directly can create functions dynamically, but suffers from security and similar (but far less significant) performance issues to eval. However, unlike eval, the Function constructor creates functions which execute in the global scope only."
   ]
  },
  {
   "cell_type": "markdown",
   "metadata": {},
   "source": [
    "### Properties and Methods of Function\n",
    "The global `Function` object has no methods or properties of its own. However, since it is a function itself, it does inherit some methods and properties through the prototype chain from `Function.prototype`"
   ]
  },
  {
   "cell_type": "markdown",
   "metadata": {},
   "source": [
    "问题： 构造函数的函数名和类名的区别？\n",
    "    <ol><li>构造方法的方法名必须与类名相同。</li>\n",
    "         <li>构造方法没有返回值类型，不能使用return语句。</li>\n",
    "         <li>构造方法的主要作用是完成对象的初始化工作，它能够把定义对象时的参数传给对象的域。</li>\n",
    "    </ol>"
   ]
  },
  {
   "cell_type": "markdown",
   "metadata": {},
   "source": [
    "问题： 私有元， 可见性 与 闭包\n",
    "<br>例： `Function.prototype.arguments` vs function 闭包 argument"
   ]
  },
  {
   "cell_type": "code",
   "execution_count": 39,
   "metadata": {},
   "outputs": [
    {
     "data": {
      "text/plain": [
       "null"
      ]
     },
     "execution_count": 39,
     "metadata": {},
     "output_type": "execute_result"
    }
   ],
   "source": [
    "//var an_Function= (a)=>{console.log(an_Function.arguments[0]); console.log(arguments[0]);console.log(eval('arguments[0]'))}\n",
    "\n",
    "//an_Function(5);\n",
    "//(()=>{}).arguments\n",
    "(function(){}).arguments\n",
    "//(function(a){console.log(a)}).arguments\n",
    "let func_A = (function(a){console.log(a)})"
   ]
  },
  {
   "cell_type": "code",
   "execution_count": 30,
   "metadata": {},
   "outputs": [
    {
     "name": "stdout",
     "output_type": "stream",
     "text": [
      "10 -- 10\n"
     ]
    },
    {
     "ename": "TypeError",
     "evalue": "Cannot read property '0' of undefined",
     "execution_count": 30,
     "output_type": "error",
     "traceback": [
      "evalmachine.<anonymous>:5",
      "  console.log(this.arguments[0])",
      "                            ^",
      "",
      "TypeError: Cannot read property '0' of undefined",
      "    at test (evalmachine.<anonymous>:5:29)",
      "    at evalmachine.<anonymous>:10:1",
      "    at Script.runInThisContext (vm.js:90:20)",
      "    at Object.runInThisContext (vm.js:297:38)",
      "    at run ([eval]:1002:15)",
      "    at onRunRequest ([eval]:829:18)",
      "    at onMessage ([eval]:789:13)",
      "    at process.emit (events.js:182:13)",
      "    at emit (internal/child_process.js:811:12)",
      "    at process._tickCallback (internal/process/next_tick.js:63:19)"
     ]
    }
   ],
   "source": [
    "function test(myArg) {  \n",
    "  console.log(`${myArg} -- ${test.arguments[0]}`);  \n",
    "  //console.log(`${caller} -- ${test.caller[0]}`)\n",
    "  //console.log(`${callee} -- ${test.callee[0]}`)\n",
    "  console.log(this.arguments[0])\n",
    "  arguments[0] = 20;  \n",
    "  console.log(`${myArg} -- ${arguments[0]}`);  \n",
    "}  \n",
    "  \n",
    "test(10);\n",
    "console.log(test)\n",
    "typeof test(5)"
   ]
  },
  {
   "cell_type": "code",
   "execution_count": 41,
   "metadata": {},
   "outputs": [],
   "source": [
    "function test(myArg) {  \n",
    "  console.log(`${myArg} -- ${test.arguments[0]}`);  \n",
    "  arguments[0] = 20;  \n",
    "  console.log(`${myArg} -- ${arguments[0]}`);  \n",
    "}  "
   ]
  },
  {
   "cell_type": "code",
   "execution_count": 44,
   "metadata": {},
   "outputs": [
    {
     "name": "stdout",
     "output_type": "stream",
     "text": [
      "Twas the night before /xmas/i...\n"
     ]
    }
   ],
   "source": [
    "var str = 'Twas the night before Xmas...';\n",
    "var newstr = str.replace(/xmas/i, /xmas/i);\n",
    "console.log(newstr);  // Twas the night before Christmas..."
   ]
  },
  {
   "cell_type": "code",
   "execution_count": 75,
   "metadata": {},
   "outputs": [
    {
     "data": {
      "text/plain": [
       "'are\\r\\\\u2117locked\\\\u2012'"
      ]
     },
     "execution_count": 75,
     "metadata": {},
     "output_type": "execute_result"
    }
   ],
   "source": [
    "'are\\ru2117lockedu2012'.replace(/(u[0-9]{4})/g, '\\\\$1')"
   ]
  },
  {
   "cell_type": "code",
   "execution_count": 1,
   "metadata": {},
   "outputs": [
    {
     "name": "stdout",
     "output_type": "stream",
     "text": [
      "cons {}\n",
      "cons {}\n"
     ]
    }
   ],
   "source": [
    "function cons(){}\n",
    "const anObj = new cons();\n",
    "console.log(cons.prototype)// 以我为构造函数所造对象皆携带本函数对象的prototype属性\n",
    "console.log(anObj.__proto__)// 所造对象携带其构造函数的prototype属性记为__proto__"
   ]
  },
  {
   "cell_type": "code",
   "execution_count": 39,
   "metadata": {},
   "outputs": [
    {
     "name": "stdout",
     "output_type": "stream",
     "text": [
      "true\n",
      "true\n",
      "true\n",
      "true\n",
      "false\n",
      "true\n",
      "true\n"
     ]
    }
   ],
   "source": [
    "console.log(anObj.__proto__ === anObj.constructor.prototype)//一个实例对象的proto属性是该实例对象构造函数的prototype属性\n",
    "console.log({}.__proto__ === {}.constructor.prototype)//一个实例对象的构造函数被放在该实例对象对象构造函数的prototype上的constructor属性\n",
    "console.log(cons.__proto__ === cons.constructor.prototype)//一个构造函数的prototype属性上的constructor就是这个构造函数本身（不是这个构造函数的构造函数）\n",
    "\n",
    "console.log(anObj.constructor === anObj.__proto__.constuctor)//\n",
    "\n",
    "console.log(cons.prototype ===anObj.__proto__)\n",
    "\n",
    "console.log(cons.prototype.constructor ===anObj.constructor)\n",
    "console.log(cons.prototype.constructor ===anObj.__proto__.constructor)"
   ]
  },
  {
   "cell_type": "code",
   "execution_count": 16,
   "metadata": {},
   "outputs": [
    {
     "name": "stdout",
     "output_type": "stream",
     "text": [
      "cons {}\n",
      "{}\n",
      "true\n"
     ]
    }
   ],
   "source": [
    "console.log(anObj.__proto__)\n",
    "console.log(anObj.__proto__.__proto__)\n",
    "console.log(anObj.__proto__.__proto__ === Object.prototype)"
   ]
  },
  {
   "cell_type": "code",
   "execution_count": 17,
   "metadata": {},
   "outputs": [
    {
     "name": "stdout",
     "output_type": "stream",
     "text": [
      "cons1 {}\n",
      "cons1 {}\n"
     ]
    }
   ],
   "source": [
    "function cons1(a){this.propA=a}\n",
    "const anObj1 = new cons1();\n",
    "console.log(cons1.prototype)// 以我为构造函数所造对象皆携带本函数对象的prototype属性\n",
    "console.log(anObj1.__proto__)// 所造对象携带其构造函数的prototype属性记为__proto__"
   ]
  },
  {
   "cell_type": "code",
   "execution_count": 20,
   "metadata": {},
   "outputs": [
    {
     "name": "stdout",
     "output_type": "stream",
     "text": [
      "[Function: cons1]\n",
      "[Function: cons1]\n",
      "[Function: Function]\n"
     ]
    }
   ],
   "source": [
    "console.log(cons1.prototype.constructor)// 以我为构造函数所造对象皆携带本函数对象的prototype属性\n",
    "console.log(anObj1.constructor)// 该生成对象本身无constructor属性 由原型链继承而来\n",
    "console.log(cons1.constructor)"
   ]
  },
  {
   "cell_type": "code",
   "execution_count": 24,
   "metadata": {},
   "outputs": [
    {
     "name": "stdout",
     "output_type": "stream",
     "text": [
      "[Function: Object]\n",
      "{}\n",
      "null\n"
     ]
    }
   ],
   "source": [
    "console.log({}.constructor)\n",
    "console.log({}.__proto__)\n",
    "console.log({}.__proto__.__proto__)"
   ]
  },
  {
   "cell_type": "markdown",
   "metadata": {},
   "source": [
    "Every object in JavaScript inherits a constructor property from its prototype, which points to the constructor function that has created the object"
   ]
  },
  {
   "cell_type": "code",
   "execution_count": 25,
   "metadata": {},
   "outputs": [],
   "source": [
    "const str = new String('hello')"
   ]
  },
  {
   "cell_type": "code",
   "execution_count": 26,
   "metadata": {},
   "outputs": [
    {
     "data": {
      "text/plain": [
       "[Function: String]"
      ]
     },
     "execution_count": 26,
     "metadata": {},
     "output_type": "execute_result"
    }
   ],
   "source": [
    "str.constructor"
   ]
  },
  {
   "cell_type": "code",
   "execution_count": 27,
   "metadata": {},
   "outputs": [
    {
     "data": {
      "text/plain": [
       "[Function: String]"
      ]
     },
     "execution_count": 27,
     "metadata": {},
     "output_type": "execute_result"
    }
   ],
   "source": [
    "str.__proto__.constructor"
   ]
  },
  {
   "cell_type": "code",
   "execution_count": 32,
   "metadata": {},
   "outputs": [
    {
     "data": {
      "text/plain": [
       "[Function: Function]"
      ]
     },
     "execution_count": 32,
     "metadata": {},
     "output_type": "execute_result"
    }
   ],
   "source": [
    "String.constructor"
   ]
  },
  {
   "cell_type": "code",
   "execution_count": 43,
   "metadata": {},
   "outputs": [
    {
     "name": "stdout",
     "output_type": "stream",
     "text": [
      "true\n",
      "false\n",
      "false\n"
     ]
    }
   ],
   "source": [
    "console.log(Function.__proto__ === Function.prototype)\n",
    "console.log(Object.__proto__ === Object.prototype)\n",
    "console.log(Array.__proto__ === Array.prototype)"
   ]
  },
  {
   "cell_type": "code",
   "execution_count": 44,
   "metadata": {},
   "outputs": [
    {
     "data": {
      "text/plain": [
       "true"
      ]
     },
     "execution_count": 44,
     "metadata": {},
     "output_type": "execute_result"
    }
   ],
   "source": [
    "Function.constructor === Function"
   ]
  },
  {
   "cell_type": "markdown",
   "metadata": {},
   "source": [
    "x.constructor === X  =>   x生于X  \n",
    "x.__proto__ === X.prototype => x的样子等于X的模板  \n",
    "X.prototype.consttructor  === X => X的模板生于X\n"
   ]
  },
  {
   "cell_type": "code",
   "execution_count": 45,
   "metadata": {},
   "outputs": [
    {
     "data": {
      "text/plain": [
       "true"
      ]
     },
     "execution_count": 45,
     "metadata": {},
     "output_type": "execute_result"
    }
   ],
   "source": [
    "Number === Number.prototype.constructor"
   ]
  },
  {
   "cell_type": "code",
   "execution_count": 46,
   "metadata": {},
   "outputs": [
    {
     "data": {
      "text/plain": [
       "true"
      ]
     },
     "execution_count": 46,
     "metadata": {},
     "output_type": "execute_result"
    }
   ],
   "source": [
    "Number === (Number.prototype).constructor"
   ]
  },
  {
   "cell_type": "code",
   "execution_count": 47,
   "metadata": {},
   "outputs": [
    {
     "data": {
      "text/plain": [
       "true"
      ]
     },
     "execution_count": 47,
     "metadata": {},
     "output_type": "execute_result"
    }
   ],
   "source": [
    "cons === cons.prototype.constructor //构造函数本身是构造函数模板的构造函数"
   ]
  },
  {
   "cell_type": "code",
   "execution_count": 49,
   "metadata": {},
   "outputs": [
    {
     "name": "stdout",
     "output_type": "stream",
     "text": [
      "true\n",
      "true\n",
      "true\n"
     ]
    }
   ],
   "source": [
    "//anObj.constructor === anObj.__proto__.constructor === cons.prototype.constructor === cons\n",
    "console.log(anObj.constructor === anObj.__proto__.constructor)// 对象上本身并无此属性，通过原型链访问到\n",
    "console.log(anObj.__proto__.constructor === cons.prototype.constructor)\n",
    "console.log(cons.prototype.constructor === cons)"
   ]
  },
  {
   "cell_type": "code",
   "execution_count": null,
   "metadata": {},
   "outputs": [],
   "source": []
  },
  {
   "cell_type": "code",
   "execution_count": 50,
   "metadata": {},
   "outputs": [
    {
     "name": "stdout",
     "output_type": "stream",
     "text": [
      "false\n"
     ]
    }
   ],
   "source": [
    "console.log(cons.constructor === cons.prototype.constructor)"
   ]
  },
  {
   "cell_type": "code",
   "execution_count": 51,
   "metadata": {},
   "outputs": [
    {
     "data": {
      "text/plain": [
       "[Function: construct]"
      ]
     },
     "execution_count": 51,
     "metadata": {},
     "output_type": "execute_result"
    }
   ],
   "source": [
    "anObj.__proto__.constructor = function construct(c){this.c=c}"
   ]
  },
  {
   "cell_type": "code",
   "execution_count": 53,
   "metadata": {},
   "outputs": [
    {
     "data": {
      "text/plain": [
       "false"
      ]
     },
     "execution_count": 53,
     "metadata": {},
     "output_type": "execute_result"
    }
   ],
   "source": [
    "anObj.constructor === cons"
   ]
  },
  {
   "cell_type": "code",
   "execution_count": 55,
   "metadata": {},
   "outputs": [
    {
     "data": {
      "text/plain": [
       "[Function: construct]"
      ]
     },
     "execution_count": 55,
     "metadata": {},
     "output_type": "execute_result"
    }
   ],
   "source": [
    "anObj.constructor"
   ]
  },
  {
   "cell_type": "code",
   "execution_count": 62,
   "metadata": {},
   "outputs": [],
   "source": [
    "const f = new anObj.constructor(5)"
   ]
  },
  {
   "cell_type": "code",
   "execution_count": 65,
   "metadata": {},
   "outputs": [],
   "source": [
    "const aConsoleLog = console.log"
   ]
  },
  {
   "cell_type": "code",
   "execution_count": 66,
   "metadata": {},
   "outputs": [
    {
     "name": "stdout",
     "output_type": "stream",
     "text": [
      "hello world\n"
     ]
    }
   ],
   "source": [
    "aConsoleLog('hello world')"
   ]
  },
  {
   "cell_type": "code",
   "execution_count": 67,
   "metadata": {},
   "outputs": [
    {
     "data": {
      "text/plain": [
       "[Function: anonymous]"
      ]
     },
     "execution_count": 67,
     "metadata": {},
     "output_type": "execute_result"
    }
   ],
   "source": [
    "Function()"
   ]
  },
  {
   "cell_type": "code",
   "execution_count": 69,
   "metadata": {},
   "outputs": [
    {
     "data": {
      "text/plain": [
       "[Function: anonymous]"
      ]
     },
     "execution_count": 69,
     "metadata": {},
     "output_type": "execute_result"
    }
   ],
   "source": [
    "aFunc = new Function()"
   ]
  },
  {
   "cell_type": "code",
   "execution_count": 71,
   "metadata": {},
   "outputs": [
    {
     "data": {
      "text/plain": [
       "'function anonymous(\\n) {\\n\\n}'"
      ]
     },
     "execution_count": 71,
     "metadata": {},
     "output_type": "execute_result"
    }
   ],
   "source": [
    "aFunc.toString()"
   ]
  },
  {
   "cell_type": "code",
   "execution_count": 72,
   "metadata": {},
   "outputs": [
    {
     "data": {
      "text/plain": [
       "'function () { [native code] }'"
      ]
     },
     "execution_count": 72,
     "metadata": {},
     "output_type": "execute_result"
    }
   ],
   "source": [
    "console.log.toString()"
   ]
  },
  {
   "cell_type": "code",
   "execution_count": 73,
   "metadata": {},
   "outputs": [],
   "source": [
    "function func(){console.log('func')}"
   ]
  },
  {
   "cell_type": "code",
   "execution_count": 76,
   "metadata": {},
   "outputs": [],
   "source": [
    "const func1 = ()=>{console.log('func')}"
   ]
  },
  {
   "cell_type": "code",
   "execution_count": 78,
   "metadata": {},
   "outputs": [
    {
     "data": {
      "text/plain": [
       "false"
      ]
     },
     "execution_count": 78,
     "metadata": {},
     "output_type": "execute_result"
    }
   ],
   "source": [
    "func1 == func"
   ]
  },
  {
   "cell_type": "code",
   "execution_count": 80,
   "metadata": {},
   "outputs": [],
   "source": [
    "const func3 = console.log"
   ]
  },
  {
   "cell_type": "code",
   "execution_count": 81,
   "metadata": {},
   "outputs": [],
   "source": [
    "const func4 =  console.log"
   ]
  },
  {
   "cell_type": "code",
   "execution_count": 84,
   "metadata": {},
   "outputs": [
    {
     "data": {
      "text/plain": [
       "false"
      ]
     },
     "execution_count": 84,
     "metadata": {},
     "output_type": "execute_result"
    }
   ],
   "source": [
    "func3 == console.log"
   ]
  },
  {
   "cell_type": "code",
   "execution_count": 85,
   "metadata": {},
   "outputs": [],
   "source": [
    "function Person(name, age){this.name=name;this.age=age;}"
   ]
  },
  {
   "cell_type": "code",
   "execution_count": 86,
   "metadata": {},
   "outputs": [],
   "source": [
    "const aPerson = new Person('lee', 15)"
   ]
  },
  {
   "cell_type": "code",
   "execution_count": 88,
   "metadata": {},
   "outputs": [
    {
     "data": {
      "text/plain": [
       "Person {}"
      ]
     },
     "execution_count": 88,
     "metadata": {},
     "output_type": "execute_result"
    }
   ],
   "source": [
    "Person.prototype"
   ]
  },
  {
   "cell_type": "code",
   "execution_count": 89,
   "metadata": {},
   "outputs": [
    {
     "data": {
      "text/plain": [
       "true"
      ]
     },
     "execution_count": 89,
     "metadata": {},
     "output_type": "execute_result"
    }
   ],
   "source": [
    "aPerson.hasOwnProperty('name')"
   ]
  },
  {
   "cell_type": "code",
   "execution_count": 90,
   "metadata": {},
   "outputs": [
    {
     "data": {
      "text/plain": [
       "Person {}"
      ]
     },
     "execution_count": 90,
     "metadata": {},
     "output_type": "execute_result"
    }
   ],
   "source": [
    "Object.getPrototypeOf(aPerson)"
   ]
  },
  {
   "cell_type": "code",
   "execution_count": 98,
   "metadata": {},
   "outputs": [
    {
     "data": {
      "text/plain": [
       "[Function: Person]"
      ]
     },
     "execution_count": 98,
     "metadata": {},
     "output_type": "execute_result"
    }
   ],
   "source": [
    "aPerson.__proto__.constructor"
   ]
  },
  {
   "cell_type": "code",
   "execution_count": 92,
   "metadata": {},
   "outputs": [
    {
     "data": {
      "text/plain": [
       "[Function]"
      ]
     },
     "execution_count": 92,
     "metadata": {},
     "output_type": "execute_result"
    }
   ],
   "source": [
    "Person.__proto__"
   ]
  },
  {
   "cell_type": "code",
   "execution_count": 94,
   "metadata": {},
   "outputs": [
    {
     "data": {
      "text/plain": [
       "'function Person(name, age){this.name=name;this.age=age;}'"
      ]
     },
     "execution_count": 94,
     "metadata": {},
     "output_type": "execute_result"
    }
   ],
   "source": [
    "Person.toString()"
   ]
  },
  {
   "cell_type": "code",
   "execution_count": 97,
   "metadata": {},
   "outputs": [
    {
     "data": {
      "text/plain": [
       "Person {}"
      ]
     },
     "execution_count": 97,
     "metadata": {},
     "output_type": "execute_result"
    }
   ],
   "source": [
    "aPerson.__proto__"
   ]
  },
  {
   "cell_type": "code",
   "execution_count": 99,
   "metadata": {},
   "outputs": [
    {
     "data": {
      "text/plain": [
       "null"
      ]
     },
     "execution_count": 99,
     "metadata": {},
     "output_type": "execute_result"
    }
   ],
   "source": [
    "Person.prototype.ID = 5;"
   ]
  },
  {
   "cell_type": "code",
   "execution_count": 100,
   "metadata": {},
   "outputs": [],
   "source": [
    "const anotherPerson = new Person('lebai', 16)"
   ]
  },
  {
   "cell_type": "code",
   "execution_count": 104,
   "metadata": {},
   "outputs": [
    {
     "ename": "SyntaxError",
     "evalue": "Identifier 'aPersonObject' has already been declared",
     "execution_count": 104,
     "output_type": "error",
     "traceback": [
      "evalmachine.<anonymous>:1",
      "const aPersonObject = Object.create(Person.prototype)",
      "^",
      "",
      "SyntaxError: Identifier 'aPersonObject' has already been declared",
      "    at evalmachine.<anonymous>:1:1",
      "    at Script.runInThisContext (vm.js:90:20)",
      "    at Object.runInThisContext (vm.js:297:38)",
      "    at run ([eval]:1002:15)",
      "    at onRunRequest ([eval]:829:18)",
      "    at onMessage ([eval]:789:13)",
      "    at process.emit (events.js:182:13)",
      "    at emit (internal/child_process.js:811:12)",
      "    at process._tickCallback (internal/process/next_tick.js:63:19)"
     ]
    }
   ],
   "source": [
    "const aPersonObject = Object.create(Person.prototype)"
   ]
  },
  {
   "cell_type": "code",
   "execution_count": 105,
   "metadata": {},
   "outputs": [
    {
     "data": {
      "text/plain": [
       "[Function: Person]"
      ]
     },
     "execution_count": 105,
     "metadata": {},
     "output_type": "execute_result"
    }
   ],
   "source": [
    "aPersonObject.__proto__.constructor"
   ]
  },
  {
   "cell_type": "code",
   "execution_count": 108,
   "metadata": {},
   "outputs": [
    {
     "name": "stdout",
     "output_type": "stream",
     "text": [
      "undefined\n"
     ]
    }
   ],
   "source": [
    "console.log(aPersonObject.name)"
   ]
  },
  {
   "cell_type": "code",
   "execution_count": 109,
   "metadata": {},
   "outputs": [
    {
     "data": {
      "text/plain": [
       "[Function]"
      ]
     },
     "execution_count": 109,
     "metadata": {},
     "output_type": "execute_result"
    }
   ],
   "source": [
    "Function.__proto__"
   ]
  },
  {
   "cell_type": "code",
   "execution_count": 1,
   "metadata": {},
   "outputs": [],
   "source": [
    "function modifyObj(obj){\n",
    "  return {...obj, newProp: \"newProp\"}\n",
    "}"
   ]
  },
  {
   "cell_type": "code",
   "execution_count": 2,
   "metadata": {},
   "outputs": [
    {
     "name": "stdout",
     "output_type": "stream",
     "text": [
      "{ newProp: 'newProp' }\n"
     ]
    }
   ],
   "source": [
    "console.log(modifyObj({}))"
   ]
  },
  {
   "cell_type": "code",
   "execution_count": 3,
   "metadata": {},
   "outputs": [],
   "source": [
    "const obj = {a: 1}"
   ]
  },
  {
   "cell_type": "code",
   "execution_count": 4,
   "metadata": {},
   "outputs": [
    {
     "name": "stdout",
     "output_type": "stream",
     "text": [
      "{ a: 1, newProp: 'newProp' }\n",
      "{ a: 1 }\n"
     ]
    }
   ],
   "source": [
    "console.log(modifyObj(obj))\n",
    "console.log(obj)"
   ]
  },
  {
   "cell_type": "code",
   "execution_count": 9,
   "metadata": {},
   "outputs": [
    {
     "name": "stdout",
     "output_type": "stream",
     "text": [
      "1\n",
      "1\n"
     ]
    }
   ],
   "source": [
    "testFunc()\n",
    "function testFunc(){\n",
    "  const layer = 1;\n",
    "  console.log(layer)\n",
    "  function innerFunc(){\n",
    "    //const layer = 2;\n",
    "    console.log(layer)\n",
    "  }\n",
    "  innerFunc();\n",
    "}\n"
   ]
  },
  {
   "cell_type": "code",
   "execution_count": 17,
   "metadata": {},
   "outputs": [],
   "source": [
    "function consoleLogX(x){\n",
    "  return (y)=>{console.log(x)}\n",
    "}"
   ]
  },
  {
   "cell_type": "code",
   "execution_count": 18,
   "metadata": {},
   "outputs": [
    {
     "name": "stdout",
     "output_type": "stream",
     "text": [
      "3\n"
     ]
    }
   ],
   "source": [
    "consoleLogX(3)(8)"
   ]
  },
  {
   "cell_type": "code",
   "execution_count": 19,
   "metadata": {},
   "outputs": [],
   "source": [
    "function modObj(obj){\n",
    "  return Object.assign(obj,{b:2})\n",
    "}"
   ]
  },
  {
   "cell_type": "code",
   "execution_count": 20,
   "metadata": {},
   "outputs": [
    {
     "name": "stdout",
     "output_type": "stream",
     "text": [
      "{ a: 1, b: 2 }\n"
     ]
    }
   ],
   "source": [
    "const obj1 = {a:1};\n",
    "modObj(obj1);\n",
    "console.log(obj1);"
   ]
  },
  {
   "cell_type": "code",
   "execution_count": 21,
   "metadata": {},
   "outputs": [],
   "source": [
    "const objA = {a:{interprop:1}}"
   ]
  },
  {
   "cell_type": "code",
   "execution_count": 22,
   "metadata": {},
   "outputs": [
    {
     "name": "stdout",
     "output_type": "stream",
     "text": [
      "{ a: { interprop: 1 } }\n"
     ]
    }
   ],
   "source": [
    "const objACopy = Object.assign(objA,{})\n",
    "console.log(objACopy)"
   ]
  },
  {
   "cell_type": "code",
   "execution_count": 23,
   "metadata": {},
   "outputs": [],
   "source": [
    "const innerObj = {innerProp:1}"
   ]
  },
  {
   "cell_type": "code",
   "execution_count": 26,
   "metadata": {},
   "outputs": [],
   "source": [
    "const objC = {c:innerObj}"
   ]
  },
  {
   "cell_type": "code",
   "execution_count": 27,
   "metadata": {},
   "outputs": [
    {
     "name": "stdout",
     "output_type": "stream",
     "text": [
      "{ c: { innerProp: 1 } }\n"
     ]
    }
   ],
   "source": [
    "console.log(Object.assign({},objC))"
   ]
  },
  {
   "cell_type": "code",
   "execution_count": 28,
   "metadata": {},
   "outputs": [
    {
     "data": {
      "text/plain": [
       "2"
      ]
     },
     "execution_count": 28,
     "metadata": {},
     "output_type": "execute_result"
    }
   ],
   "source": [
    "innerObj[\"innerProp\"] = 2;"
   ]
  },
  {
   "cell_type": "code",
   "execution_count": 29,
   "metadata": {},
   "outputs": [
    {
     "data": {
      "text/plain": [
       "{ c: { innerProp: 2 } }"
      ]
     },
     "execution_count": 29,
     "metadata": {},
     "output_type": "execute_result"
    }
   ],
   "source": [
    "objC"
   ]
  },
  {
   "cell_type": "code",
   "execution_count": 30,
   "metadata": {},
   "outputs": [
    {
     "data": {
      "text/plain": [
       "{ c: { innerProp: 3 } }"
      ]
     },
     "execution_count": 30,
     "metadata": {},
     "output_type": "execute_result"
    }
   ],
   "source": [
    "objD = Object.assign({},objC);\n",
    "innerObj[\"innerProp\"] = 3;\n",
    "objD;"
   ]
  },
  {
   "cell_type": "code",
   "execution_count": 32,
   "metadata": {},
   "outputs": [],
   "source": [
    "const original = {a:1,b:2}"
   ]
  },
  {
   "cell_type": "code",
   "execution_count": 37,
   "metadata": {},
   "outputs": [],
   "source": [
    "const deepCopyA = JSON.parse(JSON.stringify(original))"
   ]
  },
  {
   "cell_type": "code",
   "execution_count": 38,
   "metadata": {},
   "outputs": [
    {
     "data": {
      "text/plain": [
       "{ a: 1, b: 2 }"
      ]
     },
     "execution_count": 38,
     "metadata": {},
     "output_type": "execute_result"
    }
   ],
   "source": [
    "original[\"a\"] = 3;\n",
    "deepCopyA;"
   ]
  },
  {
   "cell_type": "code",
   "execution_count": 39,
   "metadata": {},
   "outputs": [
    {
     "ename": "ReferenceError",
     "evalue": "fetch is not defined",
     "execution_count": 39,
     "output_type": "error",
     "traceback": [
      "evalmachine.<anonymous>:1",
      "fetch('https://google.com', {",
      "^",
      "",
      "ReferenceError: fetch is not defined",
      "    at evalmachine.<anonymous>:1:1",
      "    at Script.runInThisContext (vm.js:90:20)",
      "    at Object.runInThisContext (vm.js:297:38)",
      "    at run ([eval]:1002:15)",
      "    at onRunRequest ([eval]:829:18)",
      "    at onMessage ([eval]:789:13)",
      "    at process.emit (events.js:182:13)",
      "    at emit (internal/child_process.js:811:12)",
      "    at process._tickCallback (internal/process/next_tick.js:63:19)"
     ]
    }
   ],
   "source": [
    "fetch('https://google.com', {\n",
    "  credentials: 'omit'\n",
    "})"
   ]
  },
  {
   "cell_type": "code",
   "execution_count": 40,
   "metadata": {},
   "outputs": [
    {
     "name": "stdout",
     "output_type": "stream",
     "text": [
      "{ NODE_VERSION: '10.9.0',\n",
      "  HOSTNAME: '49671be94593',\n",
      "  YARN_VERSION: '1.9.2',\n",
      "  SHLVL: '1',\n",
      "  HOME: '/root',\n",
      "  PATH:\n",
      "   '/usr/bin:/usr/local/sbin:/usr/local/bin:/usr/sbin:/usr/bin:/sbin:/bin',\n",
      "  PROJ_ROOT: 'learn-js-in-jupyter',\n",
      "  PWD: '/root/learn-js-in-jupyter',\n",
      "  SERVER_PORT: '8888',\n",
      "  JPY_PARENT_PID: '1' }\n"
     ]
    }
   ],
   "source": [
    "console.log(process.env)"
   ]
  },
  {
   "cell_type": "code",
   "execution_count": 1,
   "metadata": {},
   "outputs": [
    {
     "data": {
      "text/plain": [
       "[]"
      ]
     },
     "execution_count": 1,
     "metadata": {},
     "output_type": "execute_result"
    }
   ],
   "source": [
    "Array.prototype"
   ]
  },
  {
   "cell_type": "code",
   "execution_count": 2,
   "metadata": {},
   "outputs": [
    {
     "data": {
      "text/plain": [
       "{}"
      ]
     },
     "execution_count": 2,
     "metadata": {},
     "output_type": "execute_result"
    }
   ],
   "source": [
    "Object.prototype"
   ]
  },
  {
   "cell_type": "code",
   "execution_count": 3,
   "metadata": {},
   "outputs": [
    {
     "data": {
      "text/plain": [
       "[]"
      ]
     },
     "execution_count": 3,
     "metadata": {},
     "output_type": "execute_result"
    }
   ],
   "source": [
    "const a = new Array(5);\n",
    "a.__proto__"
   ]
  },
  {
   "cell_type": "code",
   "execution_count": 7,
   "metadata": {},
   "outputs": [],
   "source": [
    "const afunc = String.prototype.toLowerCase"
   ]
  },
  {
   "cell_type": "code",
   "execution_count": 11,
   "metadata": {},
   "outputs": [
    {
     "data": {
      "text/plain": [
       "'abc'"
      ]
     },
     "execution_count": 11,
     "metadata": {},
     "output_type": "execute_result"
    }
   ],
   "source": [
    "afunc.call(\"ABC\")"
   ]
  },
  {
   "cell_type": "code",
   "execution_count": 13,
   "metadata": {},
   "outputs": [],
   "source": [
    "const animals = ['ant', 'bison', 'camel', 'duck', 'elephant'];"
   ]
  },
  {
   "cell_type": "code",
   "execution_count": 16,
   "metadata": {},
   "outputs": [
    {
     "data": {
      "text/plain": [
       "[ 'bison', 'camel', 'duck', 'elephant' ]"
      ]
     },
     "execution_count": 16,
     "metadata": {},
     "output_type": "execute_result"
    }
   ],
   "source": [
    "const aSliceFunc1 = Array.prototype.slice;\n",
    "aSliceFunc1.call(animals,1,5)"
   ]
  },
  {
   "cell_type": "code",
   "execution_count": 21,
   "metadata": {},
   "outputs": [
    {
     "name": "stdout",
     "output_type": "stream",
     "text": [
      "hello world\n"
     ]
    }
   ],
   "source": [
    "(()=>console.log(\"hello world\")).call()"
   ]
  },
  {
   "cell_type": "code",
   "execution_count": null,
   "metadata": {},
   "outputs": [],
   "source": []
  }
 ],
 "metadata": {
  "kernelspec": {
   "display_name": "Javascript (Node.js)",
   "language": "javascript",
   "name": "javascript"
  },
  "language_info": {
   "file_extension": ".js",
   "mimetype": "application/javascript",
   "name": "javascript",
   "version": "10.9.0"
  }
 },
 "nbformat": 4,
 "nbformat_minor": 2
}
