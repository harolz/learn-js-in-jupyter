{
 "cells": [
  {
   "cell_type": "code",
   "execution_count": 1,
   "metadata": {},
   "outputs": [
    {
     "data": {
      "text/plain": [
       "[Function: isValidCreditCardNumber]"
      ]
     },
     "execution_count": 1,
     "metadata": {},
     "output_type": "execute_result"
    }
   ],
   "source": [
    "const isValidCreditCardNumber = (value) => /^4[0-9]{12}(?:[0-9]{3})?|5[1-5][0-9]{14}|3[47][0-9]{13}|6(?:011|5[0-9]{2})[0-9]{12}|(^(2014)|^(2149))\\d{11}$/i.test(\n",
    "  value\n",
    ");\n",
    "exports.isValidCreditCardNumber = isValidCreditCardNumber;"
   ]
  },
  {
   "cell_type": "code",
   "execution_count": 2,
   "metadata": {},
   "outputs": [
    {
     "data": {
      "text/plain": [
       "[Function: isValidCreditCardMonth]"
      ]
     },
     "execution_count": 2,
     "metadata": {},
     "output_type": "execute_result"
    }
   ],
   "source": [
    "const isValidCreditCardMonth = (expiryMonth, expiryYear = 0) => {\n",
    "  const _month = new Date().getMonth() + 1;\n",
    "  const _year = new Date().getFullYear().toString().substr(2,2);\n",
    "\n",
    "  let isValid = true;\n",
    "  if (\n",
    "    Number(expiryMonth) > 0\n",
    "    && !/^-?(?:\\d+|\\d{1,3}(?:,\\d{3})+)?(?:\\.\\d+)?$/i.test(expiryMonth) === false\n",
    "    && Number(expiryMonth) <= 12\n",
    "  ) {\n",
    "    if (parseInt(expiryYear, 10) > 0) {\n",
    "      if (expiryYear.length === 4)\n",
    "        expiryYear = expiryYear.toString().substr(2, 2);\n",
    "      // if year is entered\n",
    "      if (\n",
    "        parseInt(expiryYear, 10) === parseInt(_year)\n",
    "        && parseInt(expiryMonth, 10) < _month\n",
    "      ) {\n",
    "        // if year is same as current year, month should be greater than current one.\n",
    "        isValid = false;\n",
    "      }\n",
    "    }\n",
    "  } else {\n",
    "    isValid = false;\n",
    "  }\n",
    "  return isValid;\n",
    "};\n",
    "module.exports.isValidCreditCardMonth = isValidCreditCardMonth;"
   ]
  },
  {
   "cell_type": "code",
   "execution_count": null,
   "metadata": {},
   "outputs": [],
   "source": [
    "const isValidCreditCardExpiryYear = (expiryYear) => {\n",
    "  let isValid = true;\n",
    "  const _year = new Date().getFullYear().toString().substr(2,2);\n",
    "  if (\n",
    "    Number(expiryYear) > 0\n",
    "    && !/^-?(?:\\d+|\\d{1,3}(?:,\\d{3})+)?(?:\\.\\d+)?$/i.test(expiryYear) === false\n",
    "  ) {\n",
    "    if (expiryYear.length === 4)\n",
    "      expiryYear = expiryYear.toString().substr(2, 2);\n",
    "\n",
    "    if (parseInt(expiryYear, 10) < _year) {\n",
    "      isValid = false;\n",
    "    }\n",
    "  } else {\n",
    "    isValid = false;\n",
    "  }\n",
    "  return isValid;\n",
    "};"
   ]
  },
  {
   "cell_type": "code",
   "execution_count": 10,
   "metadata": {},
   "outputs": [
    {
     "data": {
      "text/plain": [
       "[Function: getCardType]"
      ]
     },
     "execution_count": 10,
     "metadata": {},
     "output_type": "execute_result"
    }
   ],
   "source": [
    "const getCardType = (cardNumber) => {\n",
    "  let cardType = null;\n",
    "  const cardTypeRegEx = [\n",
    "    {\n",
    "      expression: /^4[0-9]{12}(?:[0-9]{3})?$/,\n",
    "      type: 'visa',\n",
    "    },\n",
    "    {\n",
    "      expression: /^(?:5[1-5][0-9]{2}|222[1-9]|22[3-9][0-9]|2[3-6][0-9]{2}|27[01][0-9]|2720)[0-9]{12}$/,\n",
    "      type: 'mastercard',\n",
    "    },\n",
    "    {\n",
    "      expression: /^3[47][0-9]{13}$/,\n",
    "      type: 'amex',\n",
    "    },\n",
    "    {\n",
    "      expression: /^3(?:0[0-5]|[68][0-9])[0-9]{11}$/,\n",
    "      type: 'dinersclub',\n",
    "    },\n",
    "    {\n",
    "      expression: /^6(?:011|5[0-9]{2})[0-9]{12}$/,\n",
    "      type: 'discover',\n",
    "    },\n",
    "    {\n",
    "      expression: /^(?:2131|1800|35\\d{3})\\d{11}/,\n",
    "      type: 'jcb',\n",
    "    },\n",
    "    {\n",
    "      expression: /(^(2014)|^(2149))\\d{11}$/,\n",
    "      type: 'enroute',\n",
    "    },\n",
    "  ];\n",
    "\n",
    "  cardTypeRegEx.forEach((regex) => {\n",
    "    const re = new RegExp(regex.expression);\n",
    "    if (re.test(cardNumber.toString()) === true) {\n",
    "      cardType = regex.type;\n",
    "      return true;\n",
    "    }\n",
    "    return false;\n",
    "  });\n",
    "\n",
    "  return cardType;\n",
    "};\n",
    "exports.getCardType=getCardType;"
   ]
  },
  {
   "cell_type": "code",
   "execution_count": 11,
   "metadata": {},
   "outputs": [
    {
     "ename": "ReferenceError",
     "evalue": "CardType is not defined",
     "execution_count": 11,
     "output_type": "error",
     "traceback": [
      "evalmachine.<anonymous>:1",
      "CardType('379284425482000')",
      "^",
      "",
      "ReferenceError: CardType is not defined",
      "    at evalmachine.<anonymous>:1:1",
      "    at Script.runInThisContext (vm.js:90:20)",
      "    at Object.runInThisContext (vm.js:297:38)",
      "    at run ([eval]:1002:15)",
      "    at onRunRequest ([eval]:829:18)",
      "    at onMessage ([eval]:789:13)",
      "    at process.emit (events.js:182:13)",
      "    at emit (internal/child_process.js:811:12)",
      "    at process._tickCallback (internal/process/next_tick.js:63:19)"
     ]
    }
   ],
   "source": [
    "CardType('379284425482000')"
   ]
  },
  {
   "cell_type": "code",
   "execution_count": 13,
   "metadata": {},
   "outputs": [
    {
     "data": {
      "text/plain": [
       "5"
      ]
     },
     "execution_count": 13,
     "metadata": {},
     "output_type": "execute_result"
    }
   ],
   "source": [
    "false || 5"
   ]
  },
  {
   "cell_type": "code",
   "execution_count": 2,
   "metadata": {},
   "outputs": [],
   "source": [
    "const allowOnlyAlphaNumeric = (value) => {\n",
    "  // if (!value) {\n",
    "  //   return value;\n",
    "  // }\n",
    "  const rE = /^[0-9a-zA-Z]+$/;\n",
    "  return (value === '' || rE.test(value));\n",
    "};"
   ]
  },
  {
   "cell_type": "code",
   "execution_count": 8,
   "metadata": {},
   "outputs": [
    {
     "data": {
      "text/plain": [
       "false"
      ]
     },
     "execution_count": 8,
     "metadata": {},
     "output_type": "execute_result"
    }
   ],
   "source": [
    "allowOnlyAlphaNumeric('<script')"
   ]
  },
  {
   "cell_type": "code",
   "execution_count": 9,
   "metadata": {},
   "outputs": [
    {
     "ename": "TypeError",
     "evalue": "Assignment to constant variable.",
     "execution_count": 9,
     "output_type": "error",
     "traceback": [
      "evalmachine.<anonymous>:2",
      "arr = [4,5,6]",
      "    ^",
      "",
      "TypeError: Assignment to constant variable.",
      "    at evalmachine.<anonymous>:2:5",
      "    at Script.runInThisContext (vm.js:90:20)",
      "    at Object.runInThisContext (vm.js:297:38)",
      "    at run ([eval]:1002:15)",
      "    at onRunRequest ([eval]:829:18)",
      "    at onMessage ([eval]:789:13)",
      "    at process.emit (events.js:182:13)",
      "    at emit (internal/child_process.js:811:12)",
      "    at process._tickCallback (internal/process/next_tick.js:63:19)"
     ]
    }
   ],
   "source": [
    "const arr =[1,2,3]\n",
    "arr = [4,5,6]"
   ]
  },
  {
   "cell_type": "code",
   "execution_count": null,
   "metadata": {},
   "outputs": [],
   "source": []
  }
 ],
 "metadata": {
  "kernelspec": {
   "display_name": "Javascript (Node.js)",
   "language": "javascript",
   "name": "javascript"
  },
  "language_info": {
   "file_extension": ".js",
   "mimetype": "application/javascript",
   "name": "javascript",
   "version": "10.9.0"
  }
 },
 "nbformat": 4,
 "nbformat_minor": 2
}
