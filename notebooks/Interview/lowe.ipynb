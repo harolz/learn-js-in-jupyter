{
 "cells": [
  {
   "cell_type": "code",
   "execution_count": 1,
   "metadata": {},
   "outputs": [
    {
     "data": {
      "text/plain": [
       "[Function: Number]"
      ]
     },
     "execution_count": 1,
     "metadata": {},
     "output_type": "execute_result"
    }
   ],
   "source": [
    "Number"
   ]
  },
  {
   "cell_type": "code",
   "execution_count": 3,
   "metadata": {},
   "outputs": [
    {
     "data": {
      "text/plain": [
       "[Function]"
      ]
     },
     "execution_count": 3,
     "metadata": {},
     "output_type": "execute_result"
    }
   ],
   "source": [
    "Number.prototype.add = function (x){return x+this}"
   ]
  },
  {
   "cell_type": "code",
   "execution_count": 4,
   "metadata": {},
   "outputs": [
    {
     "data": {
      "text/plain": [
       "10"
      ]
     },
     "execution_count": 4,
     "metadata": {},
     "output_type": "execute_result"
    }
   ],
   "source": [
    "const five = Number(5);\n",
    "five.add(5)"
   ]
  },
  {
   "cell_type": "code",
   "execution_count": 7,
   "metadata": {},
   "outputs": [],
   "source": [
    "const addFunc = Number.prototype.add"
   ]
  },
  {
   "cell_type": "code",
   "execution_count": 12,
   "metadata": {},
   "outputs": [
    {
     "data": {
      "text/plain": [
       "8"
      ]
     },
     "execution_count": 12,
     "metadata": {},
     "output_type": "execute_result"
    }
   ],
   "source": [
    "new Number(5).add(3)"
   ]
  },
  {
   "cell_type": "code",
   "execution_count": 13,
   "metadata": {},
   "outputs": [
    {
     "data": {
      "text/plain": [
       "8"
      ]
     },
     "execution_count": 13,
     "metadata": {},
     "output_type": "execute_result"
    }
   ],
   "source": [
    "addFunc.call(Number(5),3)"
   ]
  },
  {
   "cell_type": "code",
   "execution_count": 14,
   "metadata": {},
   "outputs": [
    {
     "data": {
      "text/plain": [
       "8"
      ]
     },
     "execution_count": 14,
     "metadata": {},
     "output_type": "execute_result"
    }
   ],
   "source": [
    "addFunc.apply(Number(5),[3])"
   ]
  },
  {
   "cell_type": "code",
   "execution_count": 15,
   "metadata": {},
   "outputs": [
    {
     "data": {
      "text/plain": [
       "2020-05-06T21:51:46.454Z"
      ]
     },
     "execution_count": 15,
     "metadata": {},
     "output_type": "execute_result"
    }
   ],
   "source": [
    "new Date()"
   ]
  },
  {
   "cell_type": "code",
   "execution_count": 3,
   "metadata": {},
   "outputs": [
    {
     "ename": "ReferenceError",
     "evalue": "addFunc is not defined",
     "execution_count": 3,
     "output_type": "error",
     "traceback": [
      "evalmachine.<anonymous>:1",
      "addFunc.bind(Number(5))(3)",
      "^",
      "",
      "ReferenceError: addFunc is not defined",
      "    at evalmachine.<anonymous>:1:1",
      "    at Script.runInThisContext (vm.js:90:20)",
      "    at Object.runInThisContext (vm.js:297:38)",
      "    at run ([eval]:1002:15)",
      "    at onRunRequest ([eval]:829:18)",
      "    at onMessage ([eval]:789:13)",
      "    at process.emit (events.js:182:13)",
      "    at emit (internal/child_process.js:811:12)",
      "    at process._tickCallback (internal/process/next_tick.js:63:19)"
     ]
    }
   ],
   "source": [
    "addFunc.bind(Number(5))(3)"
   ]
  },
  {
   "cell_type": "code",
   "execution_count": 4,
   "metadata": {},
   "outputs": [
    {
     "ename": "SyntaxError",
     "evalue": "Identifier 'FetchMusic' has already been declared",
     "execution_count": 4,
     "output_type": "error",
     "traceback": [
      "evalmachine.<anonymous>:1",
      "class FetchMusic {",
      "^",
      "",
      "SyntaxError: Identifier 'FetchMusic' has already been declared",
      "    at evalmachine.<anonymous>:1:1",
      "    at Script.runInThisContext (vm.js:90:20)",
      "    at Object.runInThisContext (vm.js:297:38)",
      "    at run ([eval]:1002:15)",
      "    at onRunRequest ([eval]:829:18)",
      "    at onMessage ([eval]:789:13)",
      "    at process.emit (events.js:182:13)",
      "    at emit (internal/child_process.js:811:12)",
      "    at process._tickCallback (internal/process/next_tick.js:63:19)"
     ]
    }
   ],
   "source": [
    "class FetchMusic {\n",
    "  get resources() {\n",
    "    return [\n",
    "      { id: 1, title: \"The Fragile\" },\n",
    "      { id: 2, title: \"Alladin Sane\" },\n",
    "      { id: 3, title: \"OK Computer\" }\n",
    "    ];\n",
    "  }\n",
    "\n",
    "  fetch(id) {\n",
    "    return this.resources.find(item => item.id === id);\n",
    "  }\n",
    "}\n",
    "\n",
    "class GetMovie {\n",
    "  constructor(id) {\n",
    "    return this.resources.find(item => item.id === id);\n",
    "  }\n",
    "\n",
    "  get resources() {\n",
    "    return [\n",
    "      { id: 1, title: \"Apocalypse Now\" },\n",
    "      { id: 2, title: \"Die Hard\" },\n",
    "      { id: 3, title: \"Big Lebowski\" }\n",
    "    ];\n",
    "  }\n",
    "}\n",
    "\n",
    "const getTvShow = function(id) {\n",
    "  const resources = [\n",
    "    { id: 1, title: \"Twin Peaks\" },\n",
    "    { id: 2, title: \"Luther\" },\n",
    "    { id: 3, title: \"The Simpsons\" }\n",
    "  ];\n",
    "\n",
    "  return resources.find(item => item.id === 1);\n",
    "};\n",
    "\n",
    "const booksResource = [\n",
    "  { id: 1, title: \"Ulysses\" },\n",
    "  { id: 2, title: \"Ham on Rye\" },\n",
    "  { id: 3, title: \"Quicksilver\" }\n",
    "];\n"
   ]
  },
  {
   "cell_type": "code",
   "execution_count": null,
   "metadata": {},
   "outputs": [],
   "source": []
  }
 ],
 "metadata": {
  "kernelspec": {
   "display_name": "Javascript (Node.js)",
   "language": "javascript",
   "name": "javascript"
  },
  "language_info": {
   "file_extension": ".js",
   "mimetype": "application/javascript",
   "name": "javascript",
   "version": "10.9.0"
  }
 },
 "nbformat": 4,
 "nbformat_minor": 2
}
