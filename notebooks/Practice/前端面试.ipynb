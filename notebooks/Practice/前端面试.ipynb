{
 "cells": [
  {
   "cell_type": "markdown",
   "metadata": {},
   "source": [
    "## 第 1 题：（滴滴、饿了么）写 React / Vue 项目时为什么要在列表组件中写 key，其作用是什么？"
   ]
  },
  {
   "cell_type": "markdown",
   "metadata": {},
   "source": [
    "1. 更准确：因为带key就不是就地复用了，在sameNode函数 a.key === b.key对比中可以避免就地复用的情况。所以会更加准确。\n",
    "2. 更快：利用key的唯一性生成map对象来获取对应节点，比遍历方式更快。主要是为了提升diff【同级比较】的效率。自己想一下自己要实现前后列表的diff，如果对列表的每一项增加一个key，即唯一索引，那就可以很清楚的知道两个列表谁少了谁没变。而如果不加key的话，就只能一个个对比了。"
   ]
  },
  {
   "cell_type": "markdown",
   "metadata": {},
   "source": [
    "<blockquote>vue和react都是采用diff算法来对比新旧虚拟节点，从而更新节点。在vue的diff函数中（建议先了解一下diff算法过程）。 在交叉对比中，当新节点跟旧节点头尾交叉对比没有结果时，会根据新节点的key去对比旧节点数组中的key，从而找到相应旧节点（这里对应的是一个key => index 的map映射）。如果没找到就认为是一个新增节点。而如果没有key，那么就会采用遍历查找的方式去找到对应的旧节点。一种一个map映射，另一种是遍历查找。相比而言。map映射的速度更快.</blockquote>"
   ]
  },
  {
   "cell_type": "markdown",
   "metadata": {},
   "source": [
    "<html>\n",
    "\n",
    "<head>\n",
    "    <meta name=\"viewport\" content=\"width=device-width,initial-scale=1\">\n",
    "    <title>Medium Article Demo</title>\n",
    "    <link rel=\"stylesheet\" href=\"style.css\">\n",
    "</head>\n",
    "\n",
    "<body>\n",
    "    <p id=\"header\">How Browser Rendering Works</p>\n",
    "    <div><img src=\"https://i.imgur.com/jDq3k3r.jpg\"></div>\n",
    "</body>\n",
    "\n",
    "</html>"
   ]
  },
  {
   "cell_type": "markdown",
   "metadata": {},
   "source": [
    "## 第 2 题：['1', '2', '3'].map(parseInt) what & why ?"
   ]
  },
  {
   "cell_type": "code",
   "execution_count": 1,
   "metadata": {},
   "outputs": [
    {
     "name": "stdout",
     "output_type": "stream",
     "text": [
      "1 0 [ '1', '2', '3' ]\n",
      "2 1 [ '1', '2', '3' ]\n",
      "3 2 [ '1', '2', '3' ]\n"
     ]
    },
    {
     "data": {
      "text/plain": [
       "[ undefined, undefined, undefined ]"
      ]
     },
     "execution_count": 1,
     "metadata": {},
     "output_type": "execute_result"
    }
   ],
   "source": [
    "['1', '2', '3'].map(console.log)//console.log 接受无限多连参"
   ]
  },
  {
   "cell_type": "code",
   "execution_count": 13,
   "metadata": {},
   "outputs": [],
   "source": [
    "const x = {\n",
    "  a:1,\n",
    "  b:2,\n",
    "  c:3,\n",
    "  d:4,\n",
    "  e:5\n",
    "}\n",
    "\n",
    "const y = ['a', 'b'];"
   ]
  },
  {
   "cell_type": "code",
   "execution_count": 14,
   "metadata": {},
   "outputs": [],
   "source": [
    "const { a, b, ...rest} = x;"
   ]
  },
  {
   "cell_type": "code",
   "execution_count": 15,
   "metadata": {},
   "outputs": [
    {
     "data": {
      "text/plain": [
       "{ c: 3, d: 4, e: 5 }"
      ]
     },
     "execution_count": 15,
     "metadata": {},
     "output_type": "execute_result"
    }
   ],
   "source": [
    "rest"
   ]
  },
  {
   "cell_type": "markdown",
   "metadata": {},
   "source": [
    "### 2-1 declarative use ... 声明时变量修饰符 VS 调用时变量运算符 ... invocation use"
   ]
  },
  {
   "cell_type": "markdown",
   "metadata": {},
   "source": [
    "\n",
    "Precedence\tOperator type\tAssociativity\tIndividual operators\n",
    "21\tGrouping\tn/a\t( … )\n",
    "20\tMember Access\tleft-to-right\t… . …\n",
    "Computed Member Access\tleft-to-right\t… [ … ]\n",
    "new (with argument list)\tn/a\tnew … ( … )\n",
    "Function Call\tleft-to-right\t… ( … )\n",
    "Optional chaining\tleft-to-right\t?.\n",
    "19\tnew (without argument list)\tright-to-left\tnew …\n",
    "18\tPostfix Increment\tn/a\t… ++\n",
    "Postfix Decrement\t… --\n",
    "17\tLogical NOT\tright-to-left\t! …\n",
    "Bitwise NOT\t~ …\n",
    "Unary Plus\t+ …\n",
    "Unary Negation\t- …\n",
    "Prefix Increment\t++ …\n",
    "Prefix Decrement\t-- …\n",
    "typeof\ttypeof …\n",
    "void\tvoid …\n",
    "delete\tdelete …\n",
    "await\tawait …\n",
    "16\tExponentiation\tright-to-left\t… ** …\n",
    "15\tMultiplication\tleft-to-right\t… * …\n",
    "Division\t… / …\n",
    "Remainder\t… % …\n",
    "14\tAddition\tleft-to-right\t… + …\n",
    "Subtraction\t… - …\n",
    "13\tBitwise Left Shift\tleft-to-right\t… << …\n",
    "Bitwise Right Shift\t… >> …\n",
    "Bitwise Unsigned Right Shift\t… >>> …\n",
    "12\tLess Than\tleft-to-right\t… < …\n",
    "Less Than Or Equal\t… <= …\n",
    "Greater Than\t… > …\n",
    "Greater Than Or Equal\t… >= …\n",
    "in\t… in …\n",
    "instanceof\t… instanceof …\n",
    "11\tEquality\tleft-to-right\t… == …\n",
    "Inequality\t… != …\n",
    "Strict Equality\t… === …\n",
    "Strict Inequality\t… !== …\n",
    "10\tBitwise AND\tleft-to-right\t… & …\n",
    "9\tBitwise XOR\tleft-to-right\t… ^ …\n",
    "8\tBitwise OR\tleft-to-right\t… | …\n",
    "7\tNullish coalescing operator\tleft-to-right\t… ?? …\n",
    "6\tLogical AND\tleft-to-right\t… && …\n",
    "5\tLogical OR\tleft-to-right\t… || …\n",
    "4\tConditional\tright-to-left\t… ? … : …\n",
    "3\tAssignment\tright-to-left\t… = …\n",
    "… += …\n",
    "… -= …\n",
    "… **= …\n",
    "… *= …\n",
    "… /= …\n",
    "… %= …\n",
    "… <<= …\n",
    "… >>= …\n",
    "… >>>= …\n",
    "… &= …\n",
    "… ^= …\n",
    "… |= …\n",
    "2\tyield\tright-to-left\tyield …\n",
    "yield*\tyield* …\n",
    "1\tComma / Sequence\tleft-to-right\t… , …"
   ]
  },
  {
   "cell_type": "markdown",
   "metadata": {},
   "source": [
    "| Tables        | Are           | Cool  |\n",
    "| ------------- |:-------------:| -----:|\n",
    "| col 3 is      | right-aligned | $1600 |\n",
    "| col 2 is      | centered      |   $12 |\n",
    "| zebra stripes | are neat      |    $1 |"
   ]
  },
  {
   "cell_type": "code",
   "execution_count": null,
   "metadata": {},
   "outputs": [],
   "source": []
  }
 ],
 "metadata": {
  "kernelspec": {
   "display_name": "Javascript (Node.js)",
   "language": "javascript",
   "name": "javascript"
  },
  "language_info": {
   "file_extension": ".js",
   "mimetype": "application/javascript",
   "name": "javascript",
   "version": "10.9.0"
  }
 },
 "nbformat": 4,
 "nbformat_minor": 2
}
